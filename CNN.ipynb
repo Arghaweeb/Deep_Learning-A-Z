{
  "cells": [
    {
      "cell_type": "markdown",
      "metadata": {
        "id": "view-in-github",
        "colab_type": "text"
      },
      "source": [
        "<a href=\"https://colab.research.google.com/github/Arghaweeb/Deep_Learning-A-Z/blob/main/CNN.ipynb\" target=\"_parent\"><img src=\"https://colab.research.google.com/assets/colab-badge.svg\" alt=\"Open In Colab\"/></a>"
      ]
    },
    {
      "cell_type": "markdown",
      "metadata": {
        "id": "3DR-eO17geWu"
      },
      "source": [
        "# Convolutional Neural Network"
      ]
    },
    {
      "cell_type": "code",
      "execution_count": null,
      "metadata": {
        "colab": {
          "base_uri": "https://localhost:8080/"
        },
        "id": "ehWZD3224UDZ",
        "outputId": "bd1c1bcb-445b-49d0-92a8-debeda0eb58a"
      },
      "outputs": [
        {
          "name": "stdout",
          "output_type": "stream",
          "text": [
            "Drive already mounted at /content/drive; to attempt to forcibly remount, call drive.mount(\"/content/drive\", force_remount=True).\n"
          ]
        }
      ],
      "source": [
        "from google.colab import drive\n",
        "drive.mount('/content/drive')"
      ]
    },
    {
      "cell_type": "markdown",
      "metadata": {
        "id": "EMefrVPCg-60"
      },
      "source": [
        "### Importing the libraries"
      ]
    },
    {
      "cell_type": "code",
      "execution_count": null,
      "metadata": {
        "id": "sCV30xyVhFbE"
      },
      "outputs": [],
      "source": [
        "import tensorflow as tf\n",
        "from keras.preprocessing.image import ImageDataGenerator"
      ]
    },
    {
      "cell_type": "code",
      "execution_count": null,
      "metadata": {
        "colab": {
          "base_uri": "https://localhost:8080/",
          "height": 35
        },
        "id": "FIleuCAjoFD8",
        "outputId": "a7b879f4-ad27-4fbc-cd20-15572e633480"
      },
      "outputs": [
        {
          "data": {
            "application/vnd.google.colaboratory.intrinsic+json": {
              "type": "string"
            },
            "text/plain": [
              "'2.13.0'"
            ]
          },
          "execution_count": 18,
          "metadata": {},
          "output_type": "execute_result"
        }
      ],
      "source": [
        "tf.__version__"
      ]
    },
    {
      "cell_type": "markdown",
      "metadata": {
        "id": "oxQxCBWyoGPE"
      },
      "source": [
        "## Part 1 - Data Preprocessing"
      ]
    },
    {
      "cell_type": "markdown",
      "metadata": {
        "id": "MvE-heJNo3GG"
      },
      "source": [
        "### Preprocessing the Training set"
      ]
    },
    {
      "cell_type": "code",
      "execution_count": null,
      "metadata": {
        "colab": {
          "base_uri": "https://localhost:8080/"
        },
        "id": "0koUcJMJpEBD",
        "outputId": "b03dac07-bf59-4039-c04e-542e6e9c6c4c"
      },
      "outputs": [
        {
          "name": "stdout",
          "output_type": "stream",
          "text": [
            "Found 8010 images belonging to 2 classes.\n"
          ]
        }
      ],
      "source": [
        "train_datagen = ImageDataGenerator(rescale = 1./255, #Feature Scalling\n",
        "                                   shear_range = 0.2,\n",
        "                                   zoom_range = 0.2,    #Transformation to augment the image\n",
        "                                   horizontal_flip = True)\n",
        "training_set = train_datagen.flow_from_directory('/content/drive/MyDrive/dataset/training_set',\n",
        "                                                 target_size = (64, 64),\n",
        "                                                 batch_size = 32,\n",
        "                                                 class_mode = 'binary')"
      ]
    },
    {
      "cell_type": "markdown",
      "metadata": {
        "id": "mrCMmGw9pHys"
      },
      "source": [
        "### Preprocessing the Test set"
      ]
    },
    {
      "cell_type": "code",
      "execution_count": null,
      "metadata": {
        "colab": {
          "base_uri": "https://localhost:8080/"
        },
        "id": "SH4WzfOhpKc3",
        "outputId": "d2852cc6-499e-4a87-be2d-50ca23570dc8"
      },
      "outputs": [
        {
          "name": "stdout",
          "output_type": "stream",
          "text": [
            "Found 2000 images belonging to 2 classes.\n"
          ]
        }
      ],
      "source": [
        "test_datagen = ImageDataGenerator(rescale = 1./255)\n",
        "test_set = test_datagen.flow_from_directory('/content/drive/MyDrive/dataset/test_set',\n",
        "                                            target_size = (64, 64),\n",
        "                                            batch_size = 32,\n",
        "                                            class_mode = 'binary')"
      ]
    },
    {
      "cell_type": "markdown",
      "metadata": {
        "id": "af8O4l90gk7B"
      },
      "source": [
        "## Part 2 - Building the CNN"
      ]
    },
    {
      "cell_type": "markdown",
      "metadata": {
        "id": "ces1gXY2lmoX"
      },
      "source": [
        "### Initialising the CNN"
      ]
    },
    {
      "cell_type": "code",
      "execution_count": null,
      "metadata": {
        "id": "DHVlS3v56Ku8"
      },
      "outputs": [],
      "source": [
        "cnn = tf.keras.models.Sequential()"
      ]
    },
    {
      "cell_type": "markdown",
      "metadata": {
        "id": "u5YJj_XMl5LF"
      },
      "source": [
        "### Step 1 - Convolution"
      ]
    },
    {
      "cell_type": "code",
      "execution_count": null,
      "metadata": {
        "id": "A6SpGU6L7sPi"
      },
      "outputs": [],
      "source": [
        "cnn.add(tf.keras.layers.Conv2D(filters=32, kernel_size = 3, activation='relu',input_shape=[64, 64, 3]))"
      ]
    },
    {
      "cell_type": "markdown",
      "metadata": {
        "id": "tf87FpvxmNOJ"
      },
      "source": [
        "### Step 2 - Pooling"
      ]
    },
    {
      "cell_type": "code",
      "execution_count": null,
      "metadata": {
        "id": "uwJDlYTc8_Ys"
      },
      "outputs": [],
      "source": [
        "cnn.add(tf.keras.layers.MaxPool2D(pool_size=2, strides=2))"
      ]
    },
    {
      "cell_type": "markdown",
      "metadata": {
        "id": "xaTOgD8rm4mU"
      },
      "source": [
        "### Adding a second convolutional layer"
      ]
    },
    {
      "cell_type": "code",
      "execution_count": null,
      "metadata": {
        "id": "i_-FZjn_m8gk"
      },
      "outputs": [],
      "source": [
        "cnn.add(tf.keras.layers.Conv2D(filters=32, kernel_size=3, activation='relu'))\n",
        "cnn.add(tf.keras.layers.MaxPool2D(pool_size=2, strides=2))"
      ]
    },
    {
      "cell_type": "markdown",
      "metadata": {
        "id": "tmiEuvTunKfk"
      },
      "source": [
        "### Step 3 - Flattening"
      ]
    },
    {
      "cell_type": "code",
      "execution_count": null,
      "metadata": {
        "id": "-JoqwyOO-OAk"
      },
      "outputs": [],
      "source": [
        "cnn.add(tf.keras.layers.Flatten())"
      ]
    },
    {
      "cell_type": "markdown",
      "metadata": {
        "id": "dAoSECOm203v"
      },
      "source": [
        "### Step 4 - Full Connection"
      ]
    },
    {
      "cell_type": "code",
      "execution_count": null,
      "metadata": {
        "id": "8GtmUlLd26Nq"
      },
      "outputs": [],
      "source": [
        "cnn.add(tf.keras.layers.Dense(units=128, activation='relu'))"
      ]
    },
    {
      "cell_type": "markdown",
      "metadata": {
        "id": "yTldFvbX28Na"
      },
      "source": [
        "### Step 5 - Output Layer"
      ]
    },
    {
      "cell_type": "code",
      "execution_count": null,
      "metadata": {
        "id": "1p_Zj1Mc3Ko_"
      },
      "outputs": [],
      "source": [
        "cnn.add(tf.keras.layers.Dense(units=1, activation='sigmoid'))"
      ]
    },
    {
      "cell_type": "markdown",
      "metadata": {
        "id": "D6XkI90snSDl"
      },
      "source": [
        "## Part 3 - Training the CNN"
      ]
    },
    {
      "cell_type": "markdown",
      "metadata": {
        "id": "vfrFQACEnc6i"
      },
      "source": [
        "### Compiling the CNN"
      ]
    },
    {
      "cell_type": "code",
      "execution_count": null,
      "metadata": {
        "id": "k7sq6jz6_yC7"
      },
      "outputs": [],
      "source": [
        "cnn.compile(optimizer='adam', loss='binary_crossentropy', metrics = ['accuracy'])"
      ]
    },
    {
      "cell_type": "markdown",
      "metadata": {
        "id": "ehS-v3MIpX2h"
      },
      "source": [
        "### Training the CNN on the Training set and evaluating it on the Test set"
      ]
    },
    {
      "cell_type": "code",
      "execution_count": null,
      "metadata": {
        "colab": {
          "background_save": true,
          "base_uri": "https://localhost:8080/"
        },
        "id": "jtkecB8vDNQx",
        "outputId": "7aa717dc-f061-453e-ba23-f11d07ffa78e"
      },
      "outputs": [
        {
          "name": "stderr",
          "output_type": "stream",
          "text": [
            "Exception ignored in: <function _xla_gc_callback at 0x79b52682b9a0>\n",
            "Traceback (most recent call last):\n",
            "  File \"/usr/local/lib/python3.10/dist-packages/jax/_src/lib/__init__.py\", line 97, in _xla_gc_callback\n",
            "    def _xla_gc_callback(*args):\n",
            "KeyboardInterrupt: \n"
          ]
        },
        {
          "name": "stdout",
          "output_type": "stream",
          "text": [
            "Epoch 1/25\n",
            "251/251 [==============================] - 77s 306ms/step - loss: 0.6368 - accuracy: 0.6387 - val_loss: 0.6003 - val_accuracy: 0.6885\n",
            "Epoch 2/25\n",
            "251/251 [==============================] - 68s 272ms/step - loss: 0.5861 - accuracy: 0.6864 - val_loss: 0.5527 - val_accuracy: 0.7130\n",
            "Epoch 3/25\n",
            "251/251 [==============================] - 67s 266ms/step - loss: 0.5581 - accuracy: 0.7051 - val_loss: 0.5757 - val_accuracy: 0.7030\n",
            "Epoch 4/25\n",
            "251/251 [==============================] - 70s 277ms/step - loss: 0.5287 - accuracy: 0.7288 - val_loss: 0.5469 - val_accuracy: 0.7210\n",
            "Epoch 5/25\n",
            "251/251 [==============================] - 72s 286ms/step - loss: 0.5085 - accuracy: 0.7502 - val_loss: 0.5529 - val_accuracy: 0.7240\n",
            "Epoch 6/25\n",
            "251/251 [==============================] - 67s 268ms/step - loss: 0.4824 - accuracy: 0.7642 - val_loss: 0.4841 - val_accuracy: 0.7675\n",
            "Epoch 7/25\n",
            "251/251 [==============================] - 69s 275ms/step - loss: 0.4685 - accuracy: 0.7758 - val_loss: 0.4845 - val_accuracy: 0.7795\n",
            "Epoch 8/25\n",
            "251/251 [==============================] - 65s 259ms/step - loss: 0.4561 - accuracy: 0.7813 - val_loss: 0.5236 - val_accuracy: 0.7410\n",
            "Epoch 9/25\n",
            "251/251 [==============================] - 67s 266ms/step - loss: 0.4394 - accuracy: 0.7918 - val_loss: 0.5393 - val_accuracy: 0.7525\n",
            "Epoch 10/25\n",
            "251/251 [==============================] - 64s 254ms/step - loss: 0.4244 - accuracy: 0.8007 - val_loss: 0.5071 - val_accuracy: 0.7675\n",
            "Epoch 11/25\n",
            "251/251 [==============================] - 69s 274ms/step - loss: 0.4036 - accuracy: 0.8179 - val_loss: 0.4698 - val_accuracy: 0.7880\n",
            "Epoch 12/25\n",
            "251/251 [==============================] - 66s 264ms/step - loss: 0.3937 - accuracy: 0.8157 - val_loss: 0.4565 - val_accuracy: 0.7885\n",
            "Epoch 13/25\n",
            "251/251 [==============================] - 67s 266ms/step - loss: 0.3785 - accuracy: 0.8322 - val_loss: 0.4551 - val_accuracy: 0.7945\n",
            "Epoch 14/25\n",
            "251/251 [==============================] - 70s 278ms/step - loss: 0.3632 - accuracy: 0.8403 - val_loss: 0.4660 - val_accuracy: 0.7950\n",
            "Epoch 15/25\n",
            "251/251 [==============================] - 64s 256ms/step - loss: 0.3492 - accuracy: 0.8449 - val_loss: 0.4926 - val_accuracy: 0.7895\n",
            "Epoch 16/25\n",
            "251/251 [==============================] - 67s 268ms/step - loss: 0.3416 - accuracy: 0.8508 - val_loss: 0.5015 - val_accuracy: 0.7825\n",
            "Epoch 17/25\n",
            "251/251 [==============================] - 67s 268ms/step - loss: 0.3279 - accuracy: 0.8594 - val_loss: 0.4866 - val_accuracy: 0.7945\n",
            "Epoch 18/25\n",
            "251/251 [==============================] - 66s 263ms/step - loss: 0.3113 - accuracy: 0.8652 - val_loss: 0.4921 - val_accuracy: 0.7910\n",
            "Epoch 19/25\n",
            "251/251 [==============================] - 70s 278ms/step - loss: 0.2985 - accuracy: 0.8714 - val_loss: 0.5418 - val_accuracy: 0.7820\n",
            "Epoch 20/25\n",
            "251/251 [==============================] - 67s 266ms/step - loss: 0.2897 - accuracy: 0.8743 - val_loss: 0.4964 - val_accuracy: 0.8005\n",
            "Epoch 21/25\n",
            "251/251 [==============================] - 68s 269ms/step - loss: 0.2740 - accuracy: 0.8878 - val_loss: 0.5040 - val_accuracy: 0.7915\n",
            "Epoch 22/25\n",
            "251/251 [==============================] - 69s 273ms/step - loss: 0.2687 - accuracy: 0.8844 - val_loss: 0.5690 - val_accuracy: 0.7835\n",
            "Epoch 23/25\n",
            "251/251 [==============================] - 65s 258ms/step - loss: 0.2544 - accuracy: 0.8931 - val_loss: 0.5605 - val_accuracy: 0.7875\n",
            "Epoch 24/25\n",
            "251/251 [==============================] - 67s 268ms/step - loss: 0.2443 - accuracy: 0.8988 - val_loss: 0.5516 - val_accuracy: 0.7970\n",
            "Epoch 25/25\n",
            "251/251 [==============================] - 69s 273ms/step - loss: 0.2250 - accuracy: 0.9086 - val_loss: 0.5601 - val_accuracy: 0.7875\n"
          ]
        },
        {
          "data": {
            "text/plain": [
              "<keras.src.callbacks.History at 0x79b4f2e2fd30>"
            ]
          },
          "execution_count": 31,
          "metadata": {},
          "output_type": "execute_result"
        }
      ],
      "source": [
        "cnn.fit(x = training_set, validation_data = test_set, epochs=25)"
      ]
    },
    {
      "cell_type": "markdown",
      "metadata": {
        "id": "U3PZasO0006Z"
      },
      "source": [
        "## Part 4 - Making a single prediction"
      ]
    },
    {
      "cell_type": "code",
      "execution_count": null,
      "metadata": {
        "id": "hA1buOFkLElw"
      },
      "outputs": [],
      "source": [
        "import numpy as np\n",
        "from keras.preprocessing import image\n",
        "test_image = image.load_img('/content/drive/MyDrive/dataset/single_prediction.jpeg', target_size = (64,64))\n",
        "test_image = image.img_to_array(test_image)\n",
        "test_image = np.expand_dims(test_image, axis = 0)\n",
        "result = cnn.predict(test_image)\n",
        "training_set.class_indices\n",
        "if result[0][0] ==1:\n",
        "  prediction = 'dog'\n",
        "else:\n",
        "  prediction = 'cat'\n",
        "\n",
        "print(prediction)"
      ]
    }
  ],
  "metadata": {
    "colab": {
      "provenance": [],
      "include_colab_link": true
    },
    "kernelspec": {
      "display_name": "Python 3",
      "name": "python3"
    }
  },
  "nbformat": 4,
  "nbformat_minor": 0
}